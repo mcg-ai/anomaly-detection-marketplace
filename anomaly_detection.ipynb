{
 "cells": [
  {
   "cell_type": "markdown",
   "id": "14dbe28a-7142-42bc-a9a0-c008be9a3584",
   "metadata": {},
   "source": [
    "# Anomaly Detection for sensor data\n",
    "\n",
    "\n",
    "## Usage instructions\n",
    "You can run this notebook one cell at a time (by using Shift+Enter for running a cell).\n",
    "\n",
    "### A. Subscribe to the algorithm\n",
    "To subscribe to the algorithm:\n",
    "\n",
    "1. Open the algorithm listing page.\n",
    "2. On the AWS Marketplace listing, click on the Continue to subscribe button.\n",
    "3. On the Subscribe to this software page, review and click on \"Accept Offer\" if you agree with EULA, pricing, and support terms.\n",
    "4. Once you click on the Continue to configuration button and then choose a region, you will see a **Product ARN**. This is the **algorithm ARN** that you need to specify while training a custom ML model. Copy the ARN corresponding to your region and specify the same in the following cell.\n",
    "\n",
    "### B. Import Libraries and setting up the environment"
   ]
  },
  {
   "cell_type": "code",
   "execution_count": 1,
   "id": "a220753c-a812-4e25-99a3-de5949f05423",
   "metadata": {},
   "outputs": [
    {
     "name": "stdout",
     "output_type": "stream",
     "text": [
      "sagemaker.config INFO - Not applying SDK defaults from location: /etc/xdg/sagemaker/config.yaml\n",
      "sagemaker.config INFO - Not applying SDK defaults from location: /home/sagemaker-user/.config/sagemaker/config.yaml\n"
     ]
    }
   ],
   "source": [
    "import base64\n",
    "import boto3\n",
    "import docker\n",
    "import json\n",
    "import pandas as pd\n",
    "import requests\n",
    "import sagemaker\n",
    "from sagemaker import get_execution_role\n",
    "import socket\n",
    "import time\n",
    "from urllib.parse import urlparse\n",
    "from joblib import dump, load\n",
    "import matplotlib.pyplot as plt\n",
    "import numpy as np\n",
    "\n",
    "\n",
    "session = sagemaker.Session()\n",
    "region = session.boto_region_name\n",
    "account_id = boto3.client(\"sts\").get_caller_identity().get(\"Account\")\n",
    "role = get_execution_role()\n",
    "\n",
    "sagemaker_client = boto3.client(\"sagemaker\")\n",
    "s3_client = session.boto_session.client(\"s3\")\n",
    "ecr = boto3.client(\"ecr\")\n",
    "sm_runtime = boto3.client(\"sagemaker-runtime\")\n",
    "runtime_client = boto3.client('sagemaker-runtime')\n",
    "s3 = boto3.client('s3')\n"
   ]
  },
  {
   "cell_type": "markdown",
   "id": "a13c2088-4094-4cb0-be2b-4965bfc7cdd7",
   "metadata": {},
   "source": [
    "### C. Train a machine learning algorithm\n",
    "\n",
    "Now that dataset is available in an accessible Amazon S3 bucket, we are ready to train a machine learning model."
   ]
  },
  {
   "cell_type": "code",
   "execution_count": 2,
   "id": "46660091-827a-4b81-8c52-8adf819181e3",
   "metadata": {},
   "outputs": [],
   "source": [
    "training_data = \"s3://<bucket-name>/<key>/<filename.json>\" ## to be modified by the user"
   ]
  },
  {
   "cell_type": "markdown",
   "id": "3bc713f1-ac99-460f-ae23-a42ee8ffa190",
   "metadata": {},
   "source": [
    "#### 1. Train a model or create a training job"
   ]
  },
  {
   "cell_type": "code",
   "execution_count": 3,
   "id": "86651a67-0660-4e67-9c31-37ab7fcc0e48",
   "metadata": {},
   "outputs": [
    {
     "name": "stderr",
     "output_type": "stream",
     "text": [
      "INFO:sagemaker:Creating training-job with name: test-trainjob-2024-08-30-04-25-45-466\n"
     ]
    },
    {
     "name": "stdout",
     "output_type": "stream",
     "text": [
      "2024-08-30 04:25:45 Starting - Starting the training job...\n",
      "2024-08-30 04:26:05 Starting - Preparing the instances for training...\n",
      "2024-08-30 04:26:30 Downloading - Downloading input data...\n",
      "2024-08-30 04:26:50 Downloading - Downloading the training image.....\u001b[34msagemaker.config INFO - Not applying SDK defaults from location: /etc/xdg/sagemaker/config.yaml\u001b[0m\n",
      "\u001b[34msagemaker.config INFO - Not applying SDK defaults from location: /home/jovyan/.config/sagemaker/config.yaml\u001b[0m\n",
      "\u001b[34m['/opt/ml/input/data/train/NONANOAMLY_FEATURE_train.json']\u001b[0m\n",
      "\u001b[34mMode: train\u001b[0m\n",
      "\u001b[34mRunning training...\u001b[0m\n",
      "\n",
      "2024-08-30 04:28:13 Training - Training image download completed. Training in progress.\n",
      "2024-08-30 04:28:13 Uploading - Uploading generated training model\n",
      "2024-08-30 04:28:13 Completed - Training job completed\n",
      "Training seconds: 102\n",
      "Billable seconds: 102\n"
     ]
    }
   ],
   "source": [
    "training_job_name = 'training-job-name' ## to be modified by the user\n",
    "\n",
    "algo_arn = 'arn:aws:sagemaker:<region>:...' ## to be modified by the user based on the product ARN\n",
    "\n",
    "estimator = sagemaker.algorithm.AlgorithmEstimator(\n",
    "    algorithm_arn=algo_arn,\n",
    "    base_job_name=training_job_name,\n",
    "    role=role,\n",
    "    instance_count=1,\n",
    "    instance_type=\"ml.m5.large\",\n",
    "    input_mode=\"File\",\n",
    "    sagemaker_session=session\n",
    ")\n",
    "\n",
    "estimator.fit({\"train\": training_data})"
   ]
  },
  {
   "cell_type": "markdown",
   "id": "64ad7b6a-e70d-420f-a475-b7ef64ba5280",
   "metadata": {},
   "source": [
    "### D. Deploy model and verify results\n",
    "\n",
    "Now you can deploy the model for performing real-time inference."
   ]
  },
  {
   "cell_type": "code",
   "execution_count": 4,
   "id": "29931997-c269-4c2f-839c-924c7ea45fbe",
   "metadata": {},
   "outputs": [],
   "source": [
    "serializer = sagemaker.serializers.CSVSerializer(content_type=\"application/json\")\n",
    "deserializer = sagemaker.deserializers.CSVDeserializer(accept=\"application/json\")\n",
    "instance_type = \"<instance-type>\" ## to be modified by the user based on the available instance types"
   ]
  },
  {
   "cell_type": "markdown",
   "id": "59d34496-16c6-45c0-84cb-00b0e0139cbb",
   "metadata": {},
   "source": [
    "#### 1. Deploy trained model\n",
    "\n",
    "This code block creates the model package folllowed by the model creation followed by the endpoint creation based on the above created training job."
   ]
  },
  {
   "cell_type": "code",
   "execution_count": 5,
   "id": "7acddf7f-5c00-44a4-a5ec-ecc68ab81086",
   "metadata": {},
   "outputs": [
    {
     "name": "stderr",
     "output_type": "stream",
     "text": [
      "INFO:sagemaker:Creating model package with name: test-model\n"
     ]
    },
    {
     "name": "stdout",
     "output_type": "stream",
     "text": [
      "........."
     ]
    },
    {
     "name": "stderr",
     "output_type": "stream",
     "text": [
      "INFO:sagemaker:Creating model with name: test-model\n"
     ]
    },
    {
     "name": "stdout",
     "output_type": "stream",
     "text": [
      "\n"
     ]
    },
    {
     "name": "stderr",
     "output_type": "stream",
     "text": [
      "INFO:sagemaker:Creating endpoint-config with name test-endpoint\n",
      "INFO:sagemaker:Creating endpoint with name test-endpoint\n"
     ]
    },
    {
     "name": "stdout",
     "output_type": "stream",
     "text": [
      "-------!"
     ]
    }
   ],
   "source": [
    "predictor = estimator.deploy(\n",
    "    initial_instance_count=1,\n",
    "    instance_type=instance_type,\n",
    "    serializer=serializer,\n",
    "    deserializer=deserializer,\n",
    "    model_name=f\"test-model\",\n",
    "    endpoint_name=f\"test-endpoint\",\n",
    ")"
   ]
  },
  {
   "cell_type": "markdown",
   "id": "39f2e303-e947-4658-962a-308e0f8e76ff",
   "metadata": {},
   "source": [
    "### E. Create input payload\n",
    "The inference algorithm takes as input a JSON file containing the sensor data. Each column of the JSON file represents a sensor data, while each row represents a time step.\n"
   ]
  },
  {
   "cell_type": "code",
   "execution_count": null,
   "id": "4a721986-c6d1-40cc-9d9b-ec4f2fd2714d",
   "metadata": {},
   "outputs": [],
   "source": [
    "s3_uri = \"s3://<bucket-name>/<key>/<test-filename.json>\" ## to be modified by the user\n",
    "bucket, key = s3_uri[len(\"s3://\"):].split('/', 1)\n",
    "\n",
    "obj = s3.get_object(Bucket=bucket, Key=key)\n",
    "data = obj['Body'].read().decode('utf-8')\n",
    "\n",
    "input_data = json.loads(data)\n",
    "input_data_json = json.dumps(input_data)"
   ]
  },
  {
   "cell_type": "markdown",
   "id": "49f91d50-29dd-4508-94fb-5a23b1cc652e",
   "metadata": {},
   "source": [
    "#### 1. Perform real-time inference"
   ]
  },
  {
   "cell_type": "code",
   "execution_count": 6,
   "id": "acde3d09-bd9b-417c-b39d-d5968b636f8d",
   "metadata": {},
   "outputs": [],
   "source": [
    "endpoint_name = \"<endpoint-name>\" ## to be modified by the user\n",
    "\n",
    "response = runtime_client.invoke_endpoint(\n",
    "    EndpointName=endpoint_name,\n",
    "    ContentType='application/json',\n",
    "    Body=input_data_json\n",
    ")\n",
    "result = json.loads(response['Body'].read().decode())"
   ]
  },
  {
   "cell_type": "markdown",
   "id": "c1603550-b22e-4cfe-a68a-b1bcf9f058d5",
   "metadata": {},
   "source": [
    "#### 2. Save results to S3¶\n",
    "Saving the results with the model name, eg, model_1.json and so on in S3 bucket"
   ]
  },
  {
   "cell_type": "code",
   "execution_count": 7,
   "id": "26487ae9-61ba-47c2-b92d-a1c1677d8259",
   "metadata": {},
   "outputs": [
    {
     "name": "stdout",
     "output_type": "stream",
     "text": [
      "Successfully uploaded output/model_1.json to S3.\n",
      "Successfully uploaded output/model_2.json to S3.\n",
      "Successfully uploaded output/model_3.json to S3.\n",
      "Successfully uploaded output/model_4.json to S3.\n",
      "Successfully uploaded output/model_5.json to S3.\n"
     ]
    }
   ],
   "source": [
    "def save_results_to_s3(results, bucket_name, base_key):\n",
    "    for key, value in results.items():\n",
    "        json_data = json.dumps(value)\n",
    "        s3_key = f\"{base_key}/{key}.json\"\n",
    "        try:\n",
    "            s3.put_object(Bucket=bucket_name, Key=s3_key, Body=json_data, ContentType='application/json')\n",
    "            print(f\"Successfully uploaded {s3_key} to S3.\")\n",
    "        except Exception as e:\n",
    "            print(f\"Error uploading {s3_key} to S3: {e}\")\n",
    "\n",
    "\n",
    "bucket_name = \"<bucket-name>\"\n",
    "base_key = \"<key>\"\n",
    "save_results_to_s3(result, bucket_name, base_key)"
   ]
  },
  {
   "cell_type": "code",
   "execution_count": null,
   "id": "cc65e9f6-00c7-4c1e-8d4a-29b79e48f12a",
   "metadata": {},
   "outputs": [],
   "source": []
  }
 ],
 "metadata": {
  "kernelspec": {
   "display_name": "Python 3 (ipykernel)",
   "language": "python",
   "name": "python3"
  },
  "language_info": {
   "codemirror_mode": {
    "name": "ipython",
    "version": 3
   },
   "file_extension": ".py",
   "mimetype": "text/x-python",
   "name": "python",
   "nbconvert_exporter": "python",
   "pygments_lexer": "ipython3",
   "version": "3.10.14"
  }
 },
 "nbformat": 4,
 "nbformat_minor": 5
}
